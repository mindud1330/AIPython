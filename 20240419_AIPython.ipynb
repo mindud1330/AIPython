{
  "nbformat": 4,
  "nbformat_minor": 0,
  "metadata": {
    "colab": {
      "provenance": []
    },
    "kernelspec": {
      "name": "python3",
      "display_name": "Python 3"
    },
    "language_info": {
      "name": "python"
    }
  },
  "cells": [
    {
      "cell_type": "markdown",
      "source": [
        "# 자료구조\n",
        "## 리스트"
      ],
      "metadata": {
        "id": "ocyVzzqo91vS"
      }
    },
    {
      "cell_type": "markdown",
      "source": [
        "#### 과제\n",
        "비어있는 score 리스트 변수를 사용하여 학생들의 점수를 입력받는다. 모든 학생들의 합계, 총인원수, 평균을 출력해 보자. <br>\n",
        "만약 입력받은 점수가 숫자가 아닌 문자이면 입력을 종료한다.\n",
        "\n",
        "- isdigit() - 숫자 판별\n",
        "  - 숫자: True\n",
        "  - 숫자 x: False"
      ],
      "metadata": {
        "id": "6YPLpZip96Kb"
      }
    },
    {
      "cell_type": "code",
      "execution_count": 2,
      "metadata": {
        "colab": {
          "base_uri": "https://localhost:8080/"
        },
        "id": "YdbFNvGw2bUq",
        "outputId": "2b98bef0-75fe-4b3a-d44e-98011bcdb58a"
      },
      "outputs": [
        {
          "output_type": "stream",
          "name": "stdout",
          "text": [
            "학생의 점수를 입력하세요.90\n",
            "학생의 점수를 입력하세요.70\n",
            "학생의 점수를 입력하세요.30\n",
            "학생의 점수를 입력하세요.ㄱ\n",
            "합계: 190\n",
            "인원수: 3\n",
            "평균: 63.333333333333336\n"
          ]
        }
      ],
      "source": [
        "score = []\n",
        "\n",
        "tmp = 0\n",
        "count = 0 # 총인원수\n",
        "tot = 0 # 합계\n",
        "\n",
        "while tmp != -1:\n",
        "  tmp = input(\"학생의 점수를 입력하세요.\")\n",
        "  if tmp.isdigit():\n",
        "    tmp = int(tmp)\n",
        "    score.append(tmp)\n",
        "    count += 1\n",
        "    tot += tmp\n",
        "  else:\n",
        "    tmp = -1\n",
        "\n",
        "print(\"합계:\", tot)\n",
        "print(\"인원수:\", count)\n",
        "print(\"평균:\", tot / count)"
      ]
    },
    {
      "cell_type": "code",
      "source": [
        "score = []\n",
        "\n",
        "tmp = input(\"학생의 점수를 입력하세요.\")\n",
        "while tmp.isdigit():\n",
        "    tmp = int(tmp)\n",
        "    score.append(tmp)\n",
        "    tmp = input(\"학생의 점수를 입력하세요.\")\n",
        "\n",
        "print(\"합계:\", sum(score))\n",
        "print(\"인원수:\", len(score))\n",
        "print(\"평균:\", sum(score) / len(score))"
      ],
      "metadata": {
        "colab": {
          "base_uri": "https://localhost:8080/"
        },
        "id": "jm5FL-sR_rvM",
        "outputId": "58aebf4f-d359-4785-f061-a2760d37717c"
      },
      "execution_count": 6,
      "outputs": [
        {
          "output_type": "stream",
          "name": "stdout",
          "text": [
            "학생의 점수를 입력하세요.90\n",
            "학생의 점수를 입력하세요.70\n",
            "학생의 점수를 입력하세요.30\n",
            "학생의 점수를 입력하세요..\n",
            "합계: 190\n",
            "인원수: 3\n",
            "평균: 63.333333333333336\n"
          ]
        }
      ]
    },
    {
      "cell_type": "markdown",
      "source": [
        "### List Comprehension\n",
        "- newlist = [expression for item in iterable]"
      ],
      "metadata": {
        "id": "lVFsAO4rJOfS"
      }
    },
    {
      "cell_type": "code",
      "source": [
        "numbers = [ x ** 2 for x in range(10)]\n",
        "print(numbers)"
      ],
      "metadata": {
        "colab": {
          "base_uri": "https://localhost:8080/"
        },
        "id": "eLe3mZENJRbK",
        "outputId": "1c3e0c53-bc62-490d-9b82-dd0fc8aaf20a"
      },
      "execution_count": 21,
      "outputs": [
        {
          "output_type": "stream",
          "name": "stdout",
          "text": [
            "[0, 1, 4, 9, 16, 25, 36, 49, 64, 81]\n"
          ]
        }
      ]
    },
    {
      "cell_type": "markdown",
      "source": [
        "#### 1부터 10까지 짝수의 원소를 가진 리스트를 생성"
      ],
      "metadata": {
        "id": "GRPtaWg8MMfS"
      }
    },
    {
      "cell_type": "code",
      "source": [
        "numbers = [ x for x in range(1, 11) if x % 2 == 0]\n",
        "print(numbers)"
      ],
      "metadata": {
        "colab": {
          "base_uri": "https://localhost:8080/"
        },
        "id": "kU5bu6VoL7ET",
        "outputId": "088d60b6-0db2-45db-e14c-290e6da91a0a"
      },
      "execution_count": 20,
      "outputs": [
        {
          "output_type": "stream",
          "name": "stdout",
          "text": [
            "[2, 4, 6, 8, 10]\n"
          ]
        }
      ]
    },
    {
      "cell_type": "markdown",
      "source": [
        "#### S로 시작하는 도시명으로 리스트를 생성"
      ],
      "metadata": {
        "id": "4blMtEN4MOUy"
      }
    },
    {
      "cell_type": "code",
      "source": [
        "cityList = [\"Seoul\", \"New York\", \"London\", \"Shanghai\", \"Paris\", \"Tokyo\"]\n",
        "ScityList = [ cname for cname in cityList if cname[0] == \"S\"]\n",
        "print(ScityList)"
      ],
      "metadata": {
        "colab": {
          "base_uri": "https://localhost:8080/"
        },
        "id": "i1mIbQp6Luzs",
        "outputId": "5afbb794-bd2d-4b61-843e-63881053e43c"
      },
      "execution_count": 25,
      "outputs": [
        {
          "output_type": "stream",
          "name": "stdout",
          "text": [
            "['Seoul', 'Shanghai']\n"
          ]
        }
      ]
    },
    {
      "cell_type": "markdown",
      "source": [
        "# 함수와 메소드\n",
        "## split and join\n",
        "- string.split(separator, maxsplit)\n",
        "- string.join(iterable)"
      ],
      "metadata": {
        "id": "px2l-A8zLr-y"
      }
    },
    {
      "cell_type": "code",
      "source": [
        "txt = \"apple#banana#cherry#orange\"\n",
        "x = txt.split(\"#\")\n",
        "print(x)"
      ],
      "metadata": {
        "colab": {
          "base_uri": "https://localhost:8080/"
        },
        "id": "jO_vYgMwF4Wq",
        "outputId": "6749aabb-1f97-475e-e82d-e6cba9976be9"
      },
      "execution_count": 7,
      "outputs": [
        {
          "output_type": "stream",
          "name": "stdout",
          "text": [
            "['apple', 'banana', 'cherry', 'orange']\n"
          ]
        }
      ]
    },
    {
      "cell_type": "code",
      "source": [
        "data = \"John,30,Engineer\\nAlice,25,Designer\\nBob,22,Artist\"\n",
        "lines = data.split(\"\\n\")\n",
        "print(lines)\n",
        "for line in lines:\n",
        "  fields = line.split(\",\")\n",
        "  print(\"Name:\", fields[0], \"Age:\", fields[1], \"Occupation:\", fields[2])"
      ],
      "metadata": {
        "colab": {
          "base_uri": "https://localhost:8080/"
        },
        "id": "9TdvwxCyGT1S",
        "outputId": "2ca3ee0a-2866-4602-91ba-027dd8aa22dd"
      },
      "execution_count": 11,
      "outputs": [
        {
          "output_type": "stream",
          "name": "stdout",
          "text": [
            "['John,30,Engineer', 'Alice,25,Designer', 'Bob,22,Artist']\n",
            "Name: John Age: 30 Occupation: Engineer\n",
            "Name: Alice Age: 25 Occupation: Designer\n",
            "Name: Bob Age: 22 Occupation: Artist\n"
          ]
        }
      ]
    },
    {
      "cell_type": "code",
      "source": [
        "words = ['Hello', 'world', 'this', 'is', 'a', 'test']\n",
        "sentence = ' '.join(words)\n",
        "print(sentence)"
      ],
      "metadata": {
        "colab": {
          "base_uri": "https://localhost:8080/"
        },
        "id": "lD3GUW-7GfC6",
        "outputId": "a5fc07a5-cf37-42cc-d7e7-795e914de6f9"
      },
      "execution_count": 13,
      "outputs": [
        {
          "output_type": "stream",
          "name": "stdout",
          "text": [
            "Hello world this is a test\n"
          ]
        }
      ]
    },
    {
      "cell_type": "code",
      "source": [
        "strList = ['Python', 'Java', 'Ruby']\n",
        "line = \"->\".join(strList)\n",
        "print(line)"
      ],
      "metadata": {
        "colab": {
          "base_uri": "https://localhost:8080/"
        },
        "id": "12BKceOyGb56",
        "outputId": "e8327fb7-22a9-41af-a368-d29d11f6abd2"
      },
      "execution_count": 16,
      "outputs": [
        {
          "output_type": "stream",
          "name": "stdout",
          "text": [
            "Python->Java->Ruby\n"
          ]
        }
      ]
    },
    {
      "cell_type": "markdown",
      "source": [
        "## lambda\n",
        "이름 없는 함수 (익명 함수) 정의\n",
        "- lambda arguments: expression"
      ],
      "metadata": {
        "id": "KrMyxpTrOqoa"
      }
    },
    {
      "cell_type": "code",
      "source": [
        "double = lambda x: x * 2\n",
        "print(double(5))\n",
        "\n",
        "x = lambda a, b : a * b\n",
        "print(x(5, 6))\n",
        "\n",
        "y = lambda a, b, c : a + b + c\n",
        "print(y(5, 6, 2))"
      ],
      "metadata": {
        "colab": {
          "base_uri": "https://localhost:8080/"
        },
        "id": "Vf8QWRMoO1lp",
        "outputId": "c1ca81ad-3a41-4fa6-ba20-9c60fd57f34b"
      },
      "execution_count": 27,
      "outputs": [
        {
          "output_type": "stream",
          "name": "stdout",
          "text": [
            "10\n",
            "30\n",
            "13\n"
          ]
        }
      ]
    },
    {
      "cell_type": "markdown",
      "source": [
        "### filter\n",
        "함수와 순회 가능한 객체를 받아, 넘어온 조건 함수를 만족하는 데이터만 찾아서 반환\n",
        "- filter(function, iterable)"
      ],
      "metadata": {
        "id": "tZZMcgGAPzqx"
      }
    },
    {
      "cell_type": "code",
      "source": [
        "numbers = [ x for x in range(1, 11)]\n",
        "print(numbers)\n",
        "\n",
        "odd_numbers = list(filter(lambda x: x % 2 != 0, numbers))\n",
        "print(odd_numbers)\n",
        "\n",
        "even_numbers = list(filter(lambda x: x % 2 == 0, numbers))\n",
        "print(even_numbers)"
      ],
      "metadata": {
        "colab": {
          "base_uri": "https://localhost:8080/"
        },
        "id": "U_yMxtkjQG0C",
        "outputId": "7cfc6131-1568-4b98-e0a1-dc324b24debc"
      },
      "execution_count": 38,
      "outputs": [
        {
          "output_type": "stream",
          "name": "stdout",
          "text": [
            "[1, 2, 3, 4, 5, 6, 7, 8, 9, 10]\n",
            "[1, 3, 5, 7, 9]\n",
            "[2, 4, 6, 8, 10]\n"
          ]
        }
      ]
    },
    {
      "cell_type": "code",
      "source": [
        "ages = [5, 12, 17, 18, 24, 32]\n",
        "\n",
        "ages_over18 = list(filter(lambda x: x >= 18, ages))\n",
        "print(ages_over18)"
      ],
      "metadata": {
        "colab": {
          "base_uri": "https://localhost:8080/"
        },
        "id": "_rIht0mJUEAb",
        "outputId": "91c1653e-fcbe-47db-ebc5-7643c350ba54"
      },
      "execution_count": 60,
      "outputs": [
        {
          "output_type": "stream",
          "name": "stdout",
          "text": [
            "[18, 24, 32]\n"
          ]
        }
      ]
    },
    {
      "cell_type": "markdown",
      "source": [
        "### map\n",
        "함수와 순회 가능한 객체를 받아, 객체의 각 항목에 함수를 적용한 결과 반환\n",
        "- map(function, iterables)"
      ],
      "metadata": {
        "id": "cb_bjnlMO-Hq"
      }
    },
    {
      "cell_type": "code",
      "source": [
        "mylist = list(map(str, range(10)))\n",
        "print(mylist)\n",
        "\n",
        "numbers = list(map(int, mylist))\n",
        "print(numbers)\n",
        "\n",
        "squared = list(map(lambda x: x * 2, numbers))\n",
        "print(squared)"
      ],
      "metadata": {
        "colab": {
          "base_uri": "https://localhost:8080/"
        },
        "id": "-aCnwDOiPGrK",
        "outputId": "cbdc35f8-fc64-4c45-88fc-69ad1087e925"
      },
      "execution_count": 35,
      "outputs": [
        {
          "output_type": "stream",
          "name": "stdout",
          "text": [
            "['0', '1', '2', '3', '4', '5', '6', '7', '8', '9']\n",
            "[0, 1, 2, 3, 4, 5, 6, 7, 8, 9]\n",
            "[0, 2, 4, 6, 8, 10, 12, 14, 16, 18]\n"
          ]
        }
      ]
    },
    {
      "cell_type": "code",
      "source": [
        "def convert_to_grade(score):\n",
        "  if score >= 90:\n",
        "    return 'A'\n",
        "  elif score >= 80:\n",
        "    return 'B'\n",
        "  elif score >= 70:\n",
        "    return 'C'\n",
        "  elif score >= 60:\n",
        "    return 'D'\n",
        "  else:\n",
        "    return 'F'\n",
        "\n",
        "scores = [88, 92, 78, 60, 75, 95]\n",
        "\n",
        "grades = list(map(convert_to_grade, scores))\n",
        "print(grades)"
      ],
      "metadata": {
        "colab": {
          "base_uri": "https://localhost:8080/"
        },
        "id": "lLyEytPZTwpi",
        "outputId": "be860316-c961-453d-b2e5-805283f22227"
      },
      "execution_count": 58,
      "outputs": [
        {
          "output_type": "stream",
          "name": "stdout",
          "text": [
            "['B', 'A', 'C', 'D', 'C', 'A']\n"
          ]
        }
      ]
    },
    {
      "cell_type": "markdown",
      "source": [
        "## enumerate\n",
        "순회 가능한 객체(예: 리스트)를 인덱스와 함께 반환\n",
        "- enumerate(iterator, start)"
      ],
      "metadata": {
        "id": "2VxZhFx_QwaZ"
      }
    },
    {
      "cell_type": "code",
      "source": [
        "fruits = ['apple', 'banana', 'cherry']\n",
        "for idx, fruit in enumerate(fruits):\n",
        "  print(idx, fruit)"
      ],
      "metadata": {
        "colab": {
          "base_uri": "https://localhost:8080/"
        },
        "id": "IX44Wa_0SqMF",
        "outputId": "149809af-f467-456b-c48c-e5574b9b1312"
      },
      "execution_count": 46,
      "outputs": [
        {
          "output_type": "stream",
          "name": "stdout",
          "text": [
            "0 apple\n",
            "1 banana\n",
            "2 cherry\n"
          ]
        }
      ]
    },
    {
      "cell_type": "code",
      "source": [
        "dict = {'a': 1, 'b': 2, 'c': 3}\n",
        "for idx, (key, value) in enumerate(dict.items()):\n",
        "  print(f\"Index: {idx}, Key: {key}, Value: {value}\")"
      ],
      "metadata": {
        "colab": {
          "base_uri": "https://localhost:8080/"
        },
        "id": "UPKqaoyhStcq",
        "outputId": "e6016a3e-2b0f-4c4e-ecc1-f6800b2be4fe"
      },
      "execution_count": 47,
      "outputs": [
        {
          "output_type": "stream",
          "name": "stdout",
          "text": [
            "Index: 0, Key: a, Value: 1\n",
            "Index: 1, Key: b, Value: 2\n",
            "Index: 2, Key: c, Value: 3\n"
          ]
        }
      ]
    },
    {
      "cell_type": "code",
      "source": [
        "strList = ['Python', 'Java', 'Ruby']\n",
        "newList = [(i, lang) for i, lang in enumerate(strList)]\n",
        "print(newList)"
      ],
      "metadata": {
        "colab": {
          "base_uri": "https://localhost:8080/"
        },
        "id": "OySB310ZRGDi",
        "outputId": "fb64ff1c-ca6e-49ea-bd88-da101fe24834"
      },
      "execution_count": 43,
      "outputs": [
        {
          "output_type": "stream",
          "name": "stdout",
          "text": [
            "[(0, 'Python'), (1, 'Java'), (2, 'Ruby')]\n"
          ]
        }
      ]
    },
    {
      "cell_type": "code",
      "source": [
        "strList = ['Python', 'Java', 'Ruby']\n",
        "newList = [(i, lang) for i, lang in enumerate(strList, 1)]\n",
        "print(newList)"
      ],
      "metadata": {
        "colab": {
          "base_uri": "https://localhost:8080/"
        },
        "id": "i9FC8UzPScTS",
        "outputId": "c05e173f-f021-481e-a854-5091674093b5"
      },
      "execution_count": 44,
      "outputs": [
        {
          "output_type": "stream",
          "name": "stdout",
          "text": [
            "[(1, 'Python'), (2, 'Java'), (3, 'Ruby')]\n"
          ]
        }
      ]
    },
    {
      "cell_type": "markdown",
      "source": [
        "## zip\n",
        "두 개 이상의 순회 가능한 객체를 병렬적으로 순회하면서 각 항목을 튜플로 묶어 반환.\n",
        "- zip(iterator1, iterator2, iterator3 ...)"
      ],
      "metadata": {
        "id": "ewDEI_IUSi4q"
      }
    },
    {
      "cell_type": "code",
      "source": [
        "names = ['John', 'Jane', 'Doe']\n",
        "ages = [25, 30, 35]\n",
        "for name, age in zip(names, ages):\n",
        "  print(f\"{name} is {age} years old.\")"
      ],
      "metadata": {
        "colab": {
          "base_uri": "https://localhost:8080/"
        },
        "id": "LvnsnqHqSpXa",
        "outputId": "69ff9c05-cc14-4900-fa49-a941d22e64bf"
      },
      "execution_count": 48,
      "outputs": [
        {
          "output_type": "stream",
          "name": "stdout",
          "text": [
            "John is 25 years old.\n",
            "Jane is 30 years old.\n",
            "Doe is 35 years old.\n"
          ]
        }
      ]
    },
    {
      "cell_type": "code",
      "source": [
        "name = [ \"M\", \"N\", \"S\", \"A\" ]\n",
        "no = [ 4, 1, 3, 2 ]\n",
        "\n",
        "mylist = list(zip(name, no))\n",
        "print(mylist)"
      ],
      "metadata": {
        "colab": {
          "base_uri": "https://localhost:8080/"
        },
        "id": "HmrKnt5mU2N6",
        "outputId": "488dc8fc-ea03-4619-cb97-1f9d7cd2fc06"
      },
      "execution_count": 65,
      "outputs": [
        {
          "output_type": "stream",
          "name": "stdout",
          "text": [
            "[('M', 4), ('N', 1), ('S', 3), ('A', 2)]\n"
          ]
        }
      ]
    },
    {
      "cell_type": "code",
      "source": [
        "list1 = [1, 2, 3]\n",
        "list2 = [4, 5, 6]\n",
        "list3 = [7, 8, 9]\n",
        "\n",
        "list123 = list(zip(list1, list2, list3))\n",
        "for nums in list123:\n",
        "  print(\"Sum:\", sum(nums))"
      ],
      "metadata": {
        "colab": {
          "base_uri": "https://localhost:8080/"
        },
        "id": "I8_Q718WVSlK",
        "outputId": "bae1f70a-4769-4255-cfb4-24b51b832f22"
      },
      "execution_count": 67,
      "outputs": [
        {
          "output_type": "stream",
          "name": "stdout",
          "text": [
            "Sum: 12\n",
            "Sum: 15\n",
            "Sum: 18\n"
          ]
        }
      ]
    }
  ]
}