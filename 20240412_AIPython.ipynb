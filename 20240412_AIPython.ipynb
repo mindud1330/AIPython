{
  "nbformat": 4,
  "nbformat_minor": 0,
  "metadata": {
    "colab": {
      "provenance": []
    },
    "kernelspec": {
      "name": "python3",
      "display_name": "Python 3"
    },
    "language_info": {
      "name": "python"
    }
  },
  "cells": [
    {
      "cell_type": "markdown",
      "source": [
        "# 함수와 메서드\n",
        "## 함수\n",
        "- 독립적\n",
        "- e.g. print(), input(), len(), min(), max()\n",
        "\n",
        "## 메서드\n",
        "- class, ojbect에 속함\n",
        "- e.g. my_list.append(num), my_list.pop()"
      ],
      "metadata": {
        "id": "g4Q1gzBd6qPZ"
      }
    },
    {
      "cell_type": "markdown",
      "source": [
        "#### 함수 연습"
      ],
      "metadata": {
        "id": "TSMrEdXcMr05"
      }
    },
    {
      "cell_type": "code",
      "execution_count": 44,
      "metadata": {
        "colab": {
          "base_uri": "https://localhost:8080/"
        },
        "id": "nA9lqY9d4L01",
        "outputId": "f83feecd-034d-40d1-e236-d06735d086e4"
      },
      "outputs": [
        {
          "output_type": "stream",
          "name": "stdout",
          "text": [
            "8\n"
          ]
        }
      ],
      "source": [
        "def add(a, b):\n",
        "  return a + b\n",
        "\n",
        "result = add(3, 5)\n",
        "print(result)"
      ]
    },
    {
      "cell_type": "code",
      "source": [
        "def square(x):\n",
        "  return x ** 2\n",
        "\n",
        "print(\"2^2 =\", square(2))"
      ],
      "metadata": {
        "colab": {
          "base_uri": "https://localhost:8080/"
        },
        "id": "9IE5-XNtMA9g",
        "outputId": "f792f0c1-e887-46b5-ed15-ca1c11a134e9"
      },
      "execution_count": 47,
      "outputs": [
        {
          "output_type": "stream",
          "name": "stdout",
          "text": [
            "2^2 = 4\n"
          ]
        }
      ]
    },
    {
      "cell_type": "markdown",
      "source": [
        "# 자료구조\n",
        "## 리스트\n",
        "### 생성\n",
        "- \\[ a, b, c ]\n",
        "- list()\n",
        "\n",
        "### 삽입\n",
        "- append(value) 값을 리스트 끝에 추가\n",
        "- insert(index, value) 값을 인덱스 위치에 삽입\n",
        "- extend(list) 리스트의 값들을 리스트 끝에 추가\n",
        "\n",
        "### 삭제\n",
        "- remove(value) 값을 삭제\n",
        "- pop(index) 인덱스 위치의 데이터를 삭제\n",
        "  - default: -1\n",
        "- clear() 리스트 전체 삭제\n",
        "\n",
        "### 기타 메서드\n",
        "- index(value) 값에 해당하는 인덱스 번호 반환\n",
        "- count(value) 리스트 내의 값의 개수 반환\n",
        "\n",
        "### 내장 함수 활용\n",
        "- len(list) 리스트 항목 개수 반환\n",
        "- min(list) 최소값 반환\n",
        "- max(list) 최대값 반환\n",
        "- sum(list) 리스트 항목 총합 반환"
      ],
      "metadata": {
        "id": "_jHK7idM-MTu"
      }
    },
    {
      "cell_type": "code",
      "source": [
        "x = [10, 20, 30, 40]\n",
        "\n",
        "print(x)\n",
        "print(x[0], x[3]) # index 1, 3\n",
        "print(x[1:3]) # index 1-2"
      ],
      "metadata": {
        "colab": {
          "base_uri": "https://localhost:8080/"
        },
        "id": "b1rFUQRR_C9f",
        "outputId": "6750bb55-3676-40e1-8dab-567e4d359fba"
      },
      "execution_count": 2,
      "outputs": [
        {
          "output_type": "stream",
          "name": "stdout",
          "text": [
            "[10, 20, 30, 40]\n",
            "10 40\n",
            "[20, 30]\n"
          ]
        }
      ]
    },
    {
      "cell_type": "code",
      "source": [
        "f = [\"게임\", \"독서\"]\n",
        "print(f)\n",
        "\n",
        "f[0] = \"스포츠\"\n",
        "print(f)\n",
        "\n",
        "# f[2] = \"음악\" # index error"
      ],
      "metadata": {
        "colab": {
          "base_uri": "https://localhost:8080/"
        },
        "id": "FaLD2eo2_OwL",
        "outputId": "251c84a8-155d-4bfb-9a38-8207a542f0f6"
      },
      "execution_count": 3,
      "outputs": [
        {
          "output_type": "stream",
          "name": "stdout",
          "text": [
            "['게임', '독서']\n",
            "['스포츠', '독서']\n"
          ]
        }
      ]
    },
    {
      "cell_type": "code",
      "source": [
        "# 리스트 생성\n",
        "x = [20]\n",
        "print(x)\n",
        "\n",
        "# 값 삽입\n",
        "x.append(30)\n",
        "print(x)\n",
        "\n",
        "x.insert(0, 10)\n",
        "print(x)\n",
        "\n",
        "x.extend([40, 50])\n",
        "print(x)\n",
        "\n",
        "y = [1, 2]\n",
        "z = x + y\n",
        "print(z)\n",
        "\n",
        "# 값 제거\n",
        "x.remove(10)\n",
        "print(x)\n",
        "\n",
        "x.pop(2)\n",
        "print(x)\n",
        "\n",
        "x.clear()\n",
        "print(x)\n",
        "\n",
        "# 기타 메서드 및 내장 함수 활용\n",
        "z = z + y\n",
        "z.append(4)\n",
        "print(z)\n",
        "print(\"길이:\", len(z))\n",
        "print(\"20 위치:\", z.index(20))\n",
        "print(\"2 개수:\", z.count(2))\n",
        "print(\"min:\", min(z))\n",
        "print(\"max:\", max(z))\n",
        "# print(\"total:\". sum(z))"
      ],
      "metadata": {
        "colab": {
          "base_uri": "https://localhost:8080/"
        },
        "id": "cY8dGA0I_8lt",
        "outputId": "435a94e8-3dc8-41a0-f12a-4b509b6400bf"
      },
      "execution_count": 14,
      "outputs": [
        {
          "output_type": "stream",
          "name": "stdout",
          "text": [
            "[20]\n",
            "[20, 30]\n",
            "[10, 20, 30]\n",
            "[10, 20, 30, 40, 50]\n",
            "[10, 20, 30, 40, 50, 1, 2]\n",
            "[20, 30, 40, 50]\n",
            "[20, 30, 50]\n",
            "[]\n",
            "[10, 20, 30, 40, 50, 1, 2, 1, 2, 4]\n",
            "길이: 10\n",
            "20 위치: 1\n",
            "2 개수: 2\n",
            "min: 1\n",
            "max: 50\n"
          ]
        }
      ]
    },
    {
      "cell_type": "code",
      "source": [
        "# print \"apple\"\n",
        "fruits = [\"banana\", \"apple\", \"orange\", \"cherry\"]\n",
        "print(\"\\n\", fruits)\n",
        "print(fruits[1])\n",
        "\n",
        "# print last value\n",
        "# print(fruits[-1])\n",
        "\n",
        "# change \"banana\" -> \"grape\"\n",
        "fruits = [\"apple\", \"banana\", \"cherry\"]\n",
        "print(\"\\n\", fruits)\n",
        "fruits[fruits.index(\"banana\")] = \"grape\"\n",
        "print(fruits)\n",
        "\n",
        "# add \"strawberry\"\n",
        "fruits = [\"apple\", \"banana\", \"cherry\"]\n",
        "print(\"\\n\", fruits)\n",
        "fruits.append(\"strawberry\")\n",
        "print(fruits)\n",
        "\n",
        "# count \"apple\"\n",
        "fruits = [\"apple\", \"banana\", \"apple\", \"cherry\", \"apple\"]\n",
        "print(\"\\n\", fruits)\n",
        "print(\"apple의 개수:\", fruits.count(\"apple\"))"
      ],
      "metadata": {
        "colab": {
          "base_uri": "https://localhost:8080/"
        },
        "id": "RrgjgCk3Cdxk",
        "outputId": "9c692074-85f2-4f8b-c470-6707c0f3de7c"
      },
      "execution_count": 40,
      "outputs": [
        {
          "output_type": "stream",
          "name": "stdout",
          "text": [
            "\n",
            " ['banana', 'apple', 'orange', 'cherry']\n",
            "apple\n",
            "\n",
            " ['apple', 'banana', 'cherry']\n",
            "['apple', 'grape', 'cherry']\n",
            "\n",
            " ['apple', 'banana', 'cherry']\n",
            "['apple', 'banana', 'cherry', 'strawberry']\n",
            "\n",
            " ['apple', 'banana', 'apple', 'cherry', 'apple']\n",
            "apple의 개수: 3\n"
          ]
        }
      ]
    },
    {
      "cell_type": "code",
      "source": [
        "# print last value\n",
        "numbers = [x * 10 for x in range(1, 6)]\n",
        "print(\"\\n\", numbers)\n",
        "print(numbers[-1])\n",
        "\n",
        "# remove 30\n",
        "numbers.remove(30)\n",
        "print(\"\\n\", numbers)\n",
        "\n",
        "# length\n",
        "numbers = [x * 5 for x in range(1, 6)]\n",
        "print(\"\\n\", numbers)\n",
        "print(\"length of numbers:\", len(numbers))\n",
        "\n",
        "# max & min\n",
        "numbers = [10, 5, 8, 3, 15]\n",
        "print(\"\\n\", numbers)\n",
        "print(\"max of numbers:\", max(numbers))\n",
        "print(\"min of numbers:\", min(numbers))\n",
        "\n",
        "# total\n",
        "numbers = [x * 10 for x in range(1, 6)]\n",
        "print(\"\\n\", numbers)\n",
        "tot = sum(numbers)\n",
        "print(\"total:\", tot)\n",
        "\n",
        "# square list\n",
        "numbers = [x for x in range(1, 6)]\n",
        "numbers_square = [x ** 2 for x in numbers]\n",
        "print(\"\\n\", numbers)\n",
        "print(numbers_square)\n",
        "\n",
        "## use function\n",
        "def square(l):\n",
        "  square_list = []\n",
        "  for x in l:\n",
        "    square_list.append(x ** 2)\n",
        "\n",
        "  return square_list\n",
        "\n",
        "print(square(numbers))"
      ],
      "metadata": {
        "colab": {
          "base_uri": "https://localhost:8080/"
        },
        "id": "VsLekkYRDeCc",
        "outputId": "a84652b7-5a81-4d9b-9ca1-eccc981f5dd3"
      },
      "execution_count": 52,
      "outputs": [
        {
          "output_type": "stream",
          "name": "stdout",
          "text": [
            "\n",
            " [10, 20, 30, 40, 50]\n",
            "50\n",
            "\n",
            " [10, 20, 40, 50]\n",
            "\n",
            " [5, 10, 15, 20, 25]\n",
            "length of numbers: 5\n",
            "\n",
            " [10, 5, 8, 3, 15]\n",
            "max of numbers: 15\n",
            "min of numbers: 3\n",
            "\n",
            " [10, 20, 30, 40, 50]\n",
            "total: 150\n",
            "\n",
            " [1, 2, 3, 4, 5]\n",
            "[1, 4, 9, 16, 25]\n",
            "[1, 4, 9, 16, 25]\n"
          ]
        }
      ]
    },
    {
      "cell_type": "markdown",
      "source": [
        "#### BMI calculator"
      ],
      "metadata": {
        "id": "7t10w0EDQBQ-"
      }
    },
    {
      "cell_type": "code",
      "source": [
        "def BMI(height, weight):\n",
        "    height_m = height / 100\n",
        "    bmi = weight / (height_m ** 2)\n",
        "    return bmi\n",
        "\n",
        "def isObesity(bmi):\n",
        "    if bmi < 20:\n",
        "        return \"저체중\"\n",
        "    elif bmi < 25:\n",
        "        return \"정상\"\n",
        "    elif bmi < 30:\n",
        "        return \"과체중\"\n",
        "    else:\n",
        "        return \"비만\"\n",
        "\n",
        "\n",
        "height = 190\n",
        "weight = 90\n",
        "bmi = BMI(height, weight)\n",
        "print(\"Your BMI is\", bmi)\n",
        "print(\"당신은\", isObesity(bmi), \"입니다.\")"
      ],
      "metadata": {
        "colab": {
          "base_uri": "https://localhost:8080/"
        },
        "id": "BXT02ombQDc9",
        "outputId": "7437cb4e-633a-4424-c0b8-35f8516c316b"
      },
      "execution_count": 55,
      "outputs": [
        {
          "output_type": "stream",
          "name": "stdout",
          "text": [
            "Your BMI is 24.930747922437675\n",
            "당신은 정상 입니다.\n"
          ]
        }
      ]
    }
  ]
}