{
  "nbformat": 4,
  "nbformat_minor": 0,
  "metadata": {
    "colab": {
      "provenance": []
    },
    "kernelspec": {
      "name": "python3",
      "display_name": "Python 3"
    },
    "language_info": {
      "name": "python"
    }
  },
  "cells": [
    {
      "cell_type": "markdown",
      "source": [
        "### 시험등급"
      ],
      "metadata": {
        "id": "F3HO4Xp3-8dS"
      }
    },
    {
      "cell_type": "code",
      "execution_count": 2,
      "metadata": {
        "colab": {
          "base_uri": "https://localhost:8080/"
        },
        "id": "FHXICqES-5Xu",
        "outputId": "a4d8a2f9-61e5-4c66-fedd-5b05d3d7a045"
      },
      "outputs": [
        {
          "output_type": "stream",
          "name": "stdout",
          "text": [
            "12\n",
            "F\n"
          ]
        }
      ],
      "source": [
        "# Taking input from the user\n",
        "score = int(input())\n",
        "\n",
        "# Calculating and printing the grade\n",
        "if score >= 90:\n",
        "    print('A')\n",
        "elif score >= 80:\n",
        "    print('B')\n",
        "elif score >= 70:\n",
        "    print('C')\n",
        "elif score >= 60:\n",
        "    print('D')\n",
        "else:\n",
        "    print('F')"
      ]
    },
    {
      "cell_type": "markdown",
      "source": [
        "### 1부터 n까지 합"
      ],
      "metadata": {
        "id": "POPNzFlEAYFU"
      }
    },
    {
      "cell_type": "code",
      "source": [
        "# Taking input from the user\n",
        "num = int(input())\n",
        "\n",
        "# Calculating sum\n",
        "tot = 0\n",
        "for n in range(num+1):\n",
        "  tot += n\n",
        "\n",
        "# printing result\n",
        "print(tot)"
      ],
      "metadata": {
        "colab": {
          "base_uri": "https://localhost:8080/"
        },
        "id": "yN8rpYE--7Ja",
        "outputId": "481a2293-50f7-47b6-bd66-c1fc2512b892"
      },
      "execution_count": 4,
      "outputs": [
        {
          "output_type": "stream",
          "name": "stdout",
          "text": [
            "10\n",
            "55\n"
          ]
        }
      ]
    },
    {
      "cell_type": "markdown",
      "source": [
        "### 홀수와 짝수"
      ],
      "metadata": {
        "id": "Cb1R29fGA_hd"
      }
    },
    {
      "cell_type": "code",
      "source": [
        "# Taking input from the user\n",
        "num = int(input())\n",
        "\n",
        "# printing even or odd\n",
        "if num % 2 == 1:\n",
        "  print(\"Odd\")\n",
        "else:\n",
        "  print(\"Even\")"
      ],
      "metadata": {
        "colab": {
          "base_uri": "https://localhost:8080/"
        },
        "id": "NRsdphfFAXmc",
        "outputId": "48342641-0950-4363-ea2f-2dd42d72aa7b"
      },
      "execution_count": 6,
      "outputs": [
        {
          "output_type": "stream",
          "name": "stdout",
          "text": [
            "13\n",
            "Odd\n"
          ]
        }
      ]
    },
    {
      "cell_type": "markdown",
      "source": [
        "### 원의 넓이와 둘레"
      ],
      "metadata": {
        "id": "7jd92WLTBc49"
      }
    },
    {
      "cell_type": "code",
      "source": [
        "# Taking input from the user\n",
        "r = int(input())\n",
        "\n",
        "# calculating\n",
        "res1 = r * r * 3.14\n",
        "res2 = 2 * r * 3.14\n",
        "\n",
        "# printing result\n",
        "print(\"{:.2f}\".format(res1))\n",
        "print(\"{:.2f}\".format(res2))"
      ],
      "metadata": {
        "colab": {
          "base_uri": "https://localhost:8080/"
        },
        "id": "EMKsoDdIBeHV",
        "outputId": "91b5d6a6-36f3-40a4-d475-a4b30515c5af"
      },
      "execution_count": 10,
      "outputs": [
        {
          "output_type": "stream",
          "name": "stdout",
          "text": [
            "10\n",
            "314.00\n",
            "62.80\n"
          ]
        }
      ]
    },
    {
      "cell_type": "markdown",
      "source": [
        "### print"
      ],
      "metadata": {
        "id": "z1kBpWCtCg61"
      }
    },
    {
      "cell_type": "code",
      "source": [
        "print(\"Hello\")\n",
        "print(\"world\\n\")\n",
        "\n",
        "print(\"Hello\", \"world\")\n",
        "\n",
        "print(\"Hello \", end = \"\")\n",
        "print(\"world!\")\n",
        "\n",
        "print(\"Hello world\", end = \"!!\\n\")\n",
        "\n",
        "print(\"Hello\", \"world\", sep = \"-\", end = \"!!!\")"
      ],
      "metadata": {
        "colab": {
          "base_uri": "https://localhost:8080/"
        },
        "id": "J8zpiW9ZB6SU",
        "outputId": "54630a92-a55e-4511-ec20-fdcb38f541f3"
      },
      "execution_count": 26,
      "outputs": [
        {
          "output_type": "stream",
          "name": "stdout",
          "text": [
            "Hello\n",
            "world\n",
            "\n",
            "Hello world\n",
            "Hello world!\n",
            "Hello world!!\n",
            "Hello-world!!!"
          ]
        }
      ]
    },
    {
      "cell_type": "code",
      "source": [
        "name = \"Alice\"\n",
        "age = 30\n",
        "\n",
        "# Multiple Arguments:\n",
        "print(\"Name:\", name, \"Age:\", age)\n",
        "\n",
        "# Formatting Output:\n",
        "print(\"Name: {}, Age: {}\".format(name, age))\n",
        "\n",
        "# Formatted Output with f-strings (Python 3.6+):\n",
        "print(f\"Name: {name}, Age: {age}\")"
      ],
      "metadata": {
        "colab": {
          "base_uri": "https://localhost:8080/"
        },
        "id": "RrEOiFkcCzq9",
        "outputId": "209a18b8-1b85-4569-84e9-53c55f74adf6"
      },
      "execution_count": 14,
      "outputs": [
        {
          "output_type": "stream",
          "name": "stdout",
          "text": [
            "Name: Alice Age: 30\n",
            "Name: Alice, age: 30\n",
            "Name: Alice, Age: 30\n"
          ]
        }
      ]
    },
    {
      "cell_type": "code",
      "source": [],
      "metadata": {
        "id": "gotwKScGEQMu"
      },
      "execution_count": null,
      "outputs": []
    }
  ]
}