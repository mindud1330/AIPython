{
  "nbformat": 4,
  "nbformat_minor": 0,
  "metadata": {
    "colab": {
      "provenance": []
    },
    "kernelspec": {
      "name": "python3",
      "display_name": "Python 3"
    },
    "language_info": {
      "name": "python"
    }
  },
  "cells": [
    {
      "cell_type": "markdown",
      "source": [
        "### 1. 분을 입력받아서 시간과 분을 출력하시오."
      ],
      "metadata": {
        "id": "KkKil4v5CcEZ"
      }
    },
    {
      "cell_type": "code",
      "execution_count": 20,
      "metadata": {
        "colab": {
          "base_uri": "https://localhost:8080/"
        },
        "id": "d5NJ-ZoYBZYk",
        "outputId": "8a2086e1-1b32-478f-dd1f-b714f352e918"
      },
      "outputs": [
        {
          "output_type": "stream",
          "name": "stdout",
          "text": [
            "100\n",
            "100 -> 1시간 40분\n"
          ]
        }
      ],
      "source": [
        "minute = int(input())\n",
        "\n",
        "# calculate time\n",
        "h = minute // 60\n",
        "m = minute % 60\n",
        "\n",
        "# print result\n",
        "print(\"{:d} -> {:d}시간 {:d}분\".format(minute, h, m))"
      ]
    },
    {
      "cell_type": "markdown",
      "source": [
        "### 2. 섭씨 온도를 입력받아서 화씨온도를 출력하시오."
      ],
      "metadata": {
        "id": "2YyL8w8LCj_g"
      }
    },
    {
      "cell_type": "code",
      "source": [
        "celsius = int(input())\n",
        "\n",
        "# calculate fahrenheit\n",
        "fahrenheit = celsius * 1.8 + 32\n",
        "\n",
        "# print result\n",
        "print(\"섭씨 %d도는 화씨 %.1f도 입니다.\" % (celsius, fahrenheit))"
      ],
      "metadata": {
        "colab": {
          "base_uri": "https://localhost:8080/"
        },
        "id": "iZWgj_yaChCY",
        "outputId": "b0f9025c-f8d4-4ee8-80d7-e6877dec2d29"
      },
      "execution_count": 23,
      "outputs": [
        {
          "output_type": "stream",
          "name": "stdout",
          "text": [
            "32\n",
            "섭씨 32도는 화씨 89.6도 입니다.\n"
          ]
        }
      ]
    },
    {
      "cell_type": "markdown",
      "source": [
        "### 3. 원의 반지름을 입력받아서 화씨온도를 출력하시오."
      ],
      "metadata": {
        "id": "_cCqaMbuDasi"
      }
    },
    {
      "cell_type": "code",
      "source": [
        "r = int(input())\n",
        "PI = 3.14\n",
        "\n",
        "# calculate\n",
        "length = 2 * PI * r\n",
        "area = PI * (r ** 2)\n",
        "\n",
        "# print result\n",
        "print(\"반지름이 %d 인 원의 둘레는 %.2f 이고 면적은 %.2f 입니다.\" % (r, length, area))"
      ],
      "metadata": {
        "colab": {
          "base_uri": "https://localhost:8080/"
        },
        "id": "oc8sMHrPEFAL",
        "outputId": "f4f2a611-54b8-4da3-c63e-3f1ff47e43df"
      },
      "execution_count": 30,
      "outputs": [
        {
          "output_type": "stream",
          "name": "stdout",
          "text": [
            "10\n",
            "반지름이 10 인 원의 둘레는 62.80 이고 면적은 314.00 입니다.\n"
          ]
        }
      ]
    },
    {
      "cell_type": "code",
      "source": [],
      "metadata": {
        "id": "nDOOmSmFEfs5"
      },
      "execution_count": null,
      "outputs": []
    }
  ]
}