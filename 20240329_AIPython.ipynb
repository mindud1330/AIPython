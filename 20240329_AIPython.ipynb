{
  "nbformat": 4,
  "nbformat_minor": 0,
  "metadata": {
    "colab": {
      "provenance": []
    },
    "kernelspec": {
      "name": "python3",
      "display_name": "Python 3"
    },
    "language_info": {
      "name": "python"
    }
  },
  "cells": [
    {
      "cell_type": "markdown",
      "source": [
        "### 1. 분을 입력받아서 시간과 분을 출력하시오."
      ],
      "metadata": {
        "id": "KkKil4v5CcEZ"
      }
    },
    {
      "cell_type": "code",
      "execution_count": 11,
      "metadata": {
        "colab": {
          "base_uri": "https://localhost:8080/"
        },
        "id": "d5NJ-ZoYBZYk",
        "outputId": "4c79b16d-6786-47c2-a7b2-ba92a5b20622"
      },
      "outputs": [
        {
          "output_type": "stream",
          "name": "stdout",
          "text": [
            "100\n",
            "1시간 40분\n",
            "\n"
          ]
        }
      ],
      "source": [
        "minute = int(input())\n",
        "\n",
        "# calculate time\n",
        "h = minute // 60\n",
        "m = minute % 60\n",
        "\n",
        "# print result\n",
        "print(\"{0}시간 {1}분\".format(h, m))"
      ]
    },
    {
      "cell_type": "markdown",
      "source": [
        "### 2. 섭씨 온도를 입력받아서 화씨온도를 출력하시오."
      ],
      "metadata": {
        "id": "2YyL8w8LCj_g"
      }
    },
    {
      "cell_type": "code",
      "source": [
        "celsius = int(input())\n",
        "\n",
        "# calculate fahrenheit\n",
        "fahrenheit = celsius * 1.8 + 32\n",
        "\n",
        "# print result\n",
        "print(f\"섭씨 {celsius}도는 화씨 {fahrenheit:.1f}도 입니다.\")"
      ],
      "metadata": {
        "colab": {
          "base_uri": "https://localhost:8080/"
        },
        "id": "iZWgj_yaChCY",
        "outputId": "aebe82d7-3c49-4f46-c4e7-b4105e3ba1e6"
      },
      "execution_count": 18,
      "outputs": [
        {
          "output_type": "stream",
          "name": "stdout",
          "text": [
            "31\n",
            "섭씨 31도는 화씨 87.8도 입니다.\n"
          ]
        }
      ]
    },
    {
      "cell_type": "markdown",
      "source": [
        "3. 원의 반지름을 입력받아서 화씨온도를 출력하시오."
      ],
      "metadata": {
        "id": "_cCqaMbuDasi"
      }
    },
    {
      "cell_type": "code",
      "source": [
        "r = int(input())\n",
        "pi = 3.14\n",
        "\n",
        "# calculate\n",
        "length = 2 * pi * r\n",
        "area = pi * r ** 2\n",
        "\n",
        "# print result\n",
        "print(\"반지름이\", r, \"인 원의 둘레는\", length, \"이고 면적은\", area, \"입니다.\")"
      ],
      "metadata": {
        "colab": {
          "base_uri": "https://localhost:8080/"
        },
        "id": "oc8sMHrPEFAL",
        "outputId": "73f6d3e1-2252-447c-b441-e03d481020ba"
      },
      "execution_count": 13,
      "outputs": [
        {
          "output_type": "stream",
          "name": "stdout",
          "text": [
            "15\n",
            "반지름이 15 인 원의 둘레는 94.2 이고 면적은 706.5 입니다.\n"
          ]
        }
      ]
    },
    {
      "cell_type": "code",
      "source": [],
      "metadata": {
        "id": "nDOOmSmFEfs5"
      },
      "execution_count": null,
      "outputs": []
    }
  ]
}