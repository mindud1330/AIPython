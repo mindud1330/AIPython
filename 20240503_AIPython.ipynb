{
  "nbformat": 4,
  "nbformat_minor": 0,
  "metadata": {
    "colab": {
      "provenance": []
    },
    "kernelspec": {
      "name": "python3",
      "display_name": "Python 3"
    },
    "language_info": {
      "name": "python"
    }
  },
  "cells": [
    {
      "cell_type": "markdown",
      "source": [
        "# NumPy"
      ],
      "metadata": {
        "id": "mC9loVhTUqnr"
      }
    },
    {
      "cell_type": "markdown",
      "source": [
        "#### 1부터 10까지(미포함)의 2걸음 크기의 정수값 배열을 생성해보자."
      ],
      "metadata": {
        "id": "BCQ4fohAU32T"
      }
    },
    {
      "cell_type": "code",
      "execution_count": null,
      "metadata": {
        "colab": {
          "base_uri": "https://localhost:8080/"
        },
        "id": "TzJ_iYFa8BYr",
        "outputId": "8fa1f171-8690-448b-8083-7e81c37b327f"
      },
      "outputs": [
        {
          "output_type": "stream",
          "name": "stdout",
          "text": [
            "[1 3 5 7 9]\n"
          ]
        }
      ],
      "source": [
        "import numpy as np\n",
        "\n",
        "arr = np.arange(1, 10, 2)\n",
        "print(arr)"
      ]
    },
    {
      "cell_type": "markdown",
      "source": [
        "#### 모양이 (3, 4)인 모든 값이 1인 배열을 생성해보자."
      ],
      "metadata": {
        "id": "k5YKUWxZU5a7"
      }
    },
    {
      "cell_type": "code",
      "source": [
        "arr1 = np.ones((3, 4))\n",
        "print(arr1)"
      ],
      "metadata": {
        "colab": {
          "base_uri": "https://localhost:8080/"
        },
        "id": "DTAbNOzdUGTj",
        "outputId": "9e645df4-ee6d-492c-ba80-b034edda5e5f"
      },
      "execution_count": null,
      "outputs": [
        {
          "output_type": "stream",
          "name": "stdout",
          "text": [
            "[[1. 1. 1. 1.]\n",
            " [1. 1. 1. 1.]\n",
            " [1. 1. 1. 1.]]\n"
          ]
        }
      ]
    },
    {
      "cell_type": "markdown",
      "source": [
        "#### 0과 1사이를 10등분하고자 할 때 등분값 배열을 생성해보자."
      ],
      "metadata": {
        "id": "rFtIV8-7U8Tj"
      }
    },
    {
      "cell_type": "code",
      "source": [
        "arr = np.linspace(0, 1, 10)\n",
        "print(arr)"
      ],
      "metadata": {
        "colab": {
          "base_uri": "https://localhost:8080/"
        },
        "id": "ThskwrR3UUxs",
        "outputId": "3bcdabc7-1d6a-4203-bd9b-9be430583c2a"
      },
      "execution_count": null,
      "outputs": [
        {
          "output_type": "stream",
          "name": "stdout",
          "text": [
            "[0.         0.11111111 0.22222222 0.33333333 0.44444444 0.55555556\n",
            " 0.66666667 0.77777778 0.88888889 1.        ]\n"
          ]
        }
      ]
    },
    {
      "cell_type": "markdown",
      "source": [
        "#### 행렬\n",
        "[[ 1, 2, 3, 4, 5], <br>\n",
        " [ 6, 7, 8, 9, 10], <br>\n",
        " [11, 12, 13, 14, 15], <br>\n",
        " [16, 17, 18, 19, 20], <br>\n",
        " [21, 22, 23, 24, 25]]"
      ],
      "metadata": {
        "id": "sSLQzdsnU_4z"
      }
    },
    {
      "cell_type": "code",
      "source": [
        "arr = np.arange(1, 26)\n",
        "arr2d = arr.reshape(5, 5)\n",
        "\n",
        "print(arr2d)\n",
        "print()\n",
        "print(\"shape:\", arr2d.shape)\n",
        "\n",
        "# 19\n",
        "print(arr2d[arr2d == 19])\n",
        "indices = np.where(arr2d == 19)\n",
        "print(\" 19 index:\", indices[0][0], \",\", indices[1][0], \"\\n\")\n",
        "\n",
        "# slicing\n",
        "print(arr2d[3,3:], arr2d[4,3:])\n",
        "print(arr2d[0:2])\n",
        "print(arr2d[:,3:])"
      ],
      "metadata": {
        "colab": {
          "base_uri": "https://localhost:8080/"
        },
        "id": "bAPNYrLpVBNj",
        "outputId": "c859297d-5bf4-4469-f3bb-1da8bc20b38a"
      },
      "execution_count": 47,
      "outputs": [
        {
          "output_type": "stream",
          "name": "stdout",
          "text": [
            "[[ 1  2  3  4  5]\n",
            " [ 6  7  8  9 10]\n",
            " [11 12 13 14 15]\n",
            " [16 17 18 19 20]\n",
            " [21 22 23 24 25]]\n",
            "\n",
            "shape: (5, 5)\n",
            "[19]\n",
            " 19 index: 3 , 3 \n",
            "\n",
            "[19 20] [24 25]\n",
            "[[ 1  2  3  4  5]\n",
            " [ 6  7  8  9 10]]\n",
            "[[ 4  5]\n",
            " [ 9 10]\n",
            " [14 15]\n",
            " [19 20]\n",
            " [24 25]]\n"
          ]
        }
      ]
    },
    {
      "cell_type": "markdown",
      "source": [
        "#### 행렬\n",
        "[[[ 1  2  3  4], <br>\n",
        "  [ 5  6  7  8], <br>\n",
        "  [ 9 10 11 12]], <br><br>\n",
        "\n",
        " [[13 14 15 16], <br>\n",
        "  [17 18 19 20], <br>\n",
        "  [21 22 23 24]], <br><br>\n",
        "\n",
        " [[25 26 27 28], <br>\n",
        "  [29 30 31 32], <br>\n",
        "  [33 34 35 36]]]"
      ],
      "metadata": {
        "id": "PRsSuuRHajer"
      }
    },
    {
      "cell_type": "code",
      "source": [
        "arr = np.arange(1, 37)\n",
        "arr3d = arr.reshape(3, 3, 4)\n",
        "\n",
        "print(arr3d)\n",
        "print(\"shape:\", arr3d.shape)\n",
        "print(\"size:\", arr3d.size)\n",
        "\n",
        "arr3d_reshaped = arr3d.reshape(3, 4, 3)\n",
        "print(\"\\n(3, 4, 3) array:\")\n",
        "print(arr3d_reshaped)\n",
        "print(\"shape:\", arr3d_reshaped.shape)\n",
        "print(\"size:\", arr3d_reshaped.size)\n",
        "\n",
        "arr_flat = arr3d.flatten()\n",
        "print(\"\\nflat array:\")\n",
        "print(arr_flat)\n",
        "print(\"shape:\", arr_flat.shape)\n",
        "print(\"size:\", arr_flat.size)"
      ],
      "metadata": {
        "colab": {
          "base_uri": "https://localhost:8080/"
        },
        "id": "Wze6_zwPayhq",
        "outputId": "9136ec87-3e40-4952-8c83-7c90b3eff919"
      },
      "execution_count": 65,
      "outputs": [
        {
          "output_type": "stream",
          "name": "stdout",
          "text": [
            "[[[ 1  2  3  4]\n",
            "  [ 5  6  7  8]\n",
            "  [ 9 10 11 12]]\n",
            "\n",
            " [[13 14 15 16]\n",
            "  [17 18 19 20]\n",
            "  [21 22 23 24]]\n",
            "\n",
            " [[25 26 27 28]\n",
            "  [29 30 31 32]\n",
            "  [33 34 35 36]]]\n",
            "shape: (3, 3, 4)\n",
            "size: 36\n",
            "\n",
            "(3, 4, 3) array:\n",
            "[[[ 1  2  3]\n",
            "  [ 4  5  6]\n",
            "  [ 7  8  9]\n",
            "  [10 11 12]]\n",
            "\n",
            " [[13 14 15]\n",
            "  [16 17 18]\n",
            "  [19 20 21]\n",
            "  [22 23 24]]\n",
            "\n",
            " [[25 26 27]\n",
            "  [28 29 30]\n",
            "  [31 32 33]\n",
            "  [34 35 36]]]\n",
            "shape: (3, 4, 3)\n",
            "size: 36\n",
            "\n",
            "flat array:\n",
            "[ 1  2  3  4  5  6  7  8  9 10 11 12 13 14 15 16 17 18 19 20 21 22 23 24\n",
            " 25 26 27 28 29 30 31 32 33 34 35 36]\n",
            "shape: (36,)\n",
            "size: 36\n"
          ]
        }
      ]
    },
    {
      "cell_type": "markdown",
      "source": [
        "### 연산 연습\n",
        "#### 국어, 영어 총점과 평균"
      ],
      "metadata": {
        "id": "RXKDpc5ycJGC"
      }
    },
    {
      "cell_type": "code",
      "source": [
        "kor = np.array([20, 30, 60])\n",
        "eng = np.array([60, 40, 90])\n",
        "\n",
        "print(\"국어 점수:\", kor)\n",
        "print(\"영어 점수:\", eng)\n",
        "\n",
        "tot_score = kor + eng\n",
        "avg_score = tot_score / 2\n",
        "\n",
        "print(\"개인 총점:\", tot_score)\n",
        "print(\"개인 평균:\", avg_score)\n",
        "\n",
        "print(\"국어 평균:\", np.mean(kor))\n",
        "print(\"영어 평균:\", np.mean(eng))"
      ],
      "metadata": {
        "colab": {
          "base_uri": "https://localhost:8080/"
        },
        "id": "w9La9GLvcPSn",
        "outputId": "4fe33144-1256-4b2c-a877-adc59503562c"
      },
      "execution_count": 64,
      "outputs": [
        {
          "output_type": "stream",
          "name": "stdout",
          "text": [
            "국어 점수: [20 30 60]\n",
            "영어 점수: [60 40 90]\n",
            "개인 총점: [ 80  70 150]\n",
            "개인 평균: [40. 35. 75.]\n",
            "국어 평균: 36.666666666666664\n",
            "영어 평균: 63.333333333333336\n"
          ]
        }
      ]
    }
  ]
}