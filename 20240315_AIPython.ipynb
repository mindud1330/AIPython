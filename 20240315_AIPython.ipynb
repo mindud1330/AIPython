{
  "nbformat": 4,
  "nbformat_minor": 0,
  "metadata": {
    "colab": {
      "provenance": []
    },
    "kernelspec": {
      "name": "python3",
      "display_name": "Python 3"
    },
    "language_info": {
      "name": "python"
    }
  },
  "cells": [
    {
      "cell_type": "markdown",
      "source": [
        "단축키\n",
        "*   program 실행: ctrl + enter\n",
        "*   program 실행 & 다음 셀 생성: shift + enter"
      ],
      "metadata": {
        "id": "qdRneRiB_2J1"
      }
    },
    {
      "cell_type": "code",
      "source": [
        "print(\"Hello Python!\")"
      ],
      "metadata": {
        "colab": {
          "base_uri": "https://localhost:8080/"
        },
        "id": "ka9XgYDm_cv1",
        "outputId": "67c52699-44f8-4a70-c277-f10d6eec22cf"
      },
      "execution_count": 3,
      "outputs": [
        {
          "output_type": "stream",
          "name": "stdout",
          "text": [
            "Hello Python!\n"
          ]
        }
      ]
    },
    {
      "cell_type": "markdown",
      "source": [
        "### 두 수를 입력받아서 합을 출력하는 프로그램"
      ],
      "metadata": {
        "id": "Hm6Pm6xa_7Ok"
      }
    },
    {
      "cell_type": "code",
      "execution_count": 6,
      "metadata": {
        "colab": {
          "base_uri": "https://localhost:8080/"
        },
        "id": "3owH1rxx-zHg",
        "outputId": "f75f4444-df5c-41c3-ffc2-660140190fc5"
      },
      "outputs": [
        {
          "output_type": "stream",
          "name": "stdout",
          "text": [
            "1 5\n",
            "6\n"
          ]
        }
      ],
      "source": [
        "A, B = map(int, input().split())\n",
        "sumNum = A + B\n",
        "\n",
        "print(sumNum)"
      ]
    },
    {
      "cell_type": "markdown",
      "source": [
        "### 두 수를 입력받아서 비교하는 프로그램"
      ],
      "metadata": {
        "id": "rFzff-6SA5o8"
      }
    },
    {
      "cell_type": "code",
      "source": [
        "a, b = map(int, input().split())\n",
        "\n",
        "if a > b:\n",
        "  print('>')\n",
        "elif a < b:\n",
        "  print('<')\n",
        "else:\n",
        "  print('==')"
      ],
      "metadata": {
        "colab": {
          "base_uri": "https://localhost:8080/"
        },
        "id": "Yf1Bn3wt_lWb",
        "outputId": "62ec3295-bb5d-4eee-ee27-59a459683180"
      },
      "execution_count": 5,
      "outputs": [
        {
          "output_type": "stream",
          "name": "stdout",
          "text": [
            "5 5\n",
            "==\n"
          ]
        }
      ]
    }
  ]
}