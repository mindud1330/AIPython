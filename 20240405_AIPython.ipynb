{
  "nbformat": 4,
  "nbformat_minor": 0,
  "metadata": {
    "colab": {
      "provenance": []
    },
    "kernelspec": {
      "name": "python3",
      "display_name": "Python 3"
    },
    "language_info": {
      "name": "python"
    }
  },
  "cells": [
    {
      "cell_type": "markdown",
      "source": [
        "## 조건문\n",
        "### if 문"
      ],
      "metadata": {
        "id": "ywPMXqKm5otU"
      }
    },
    {
      "cell_type": "code",
      "source": [
        "import random\n",
        "\n",
        "a = random.randrange(20)\n",
        "if a > 5:\n",
        "  if a < 10:\n",
        "    print(a, \"is larger than 5 and smaller than 10.\")\n",
        "  else:\n",
        "    print(a, \"is larger than 10.\")\n",
        "elif a == 5:\n",
        "  print(a, \"is equal to 5.\")\n",
        "else:\n",
        "  print(a, \"is smaller than 5.\")"
      ],
      "metadata": {
        "colab": {
          "base_uri": "https://localhost:8080/"
        },
        "id": "fL6PydBQ2Tut",
        "outputId": "448226a9-e253-4680-b5b9-679ef8a3116d"
      },
      "execution_count": 41,
      "outputs": [
        {
          "output_type": "stream",
          "name": "stdout",
          "text": [
            "15 is larger than 10.\n"
          ]
        }
      ]
    },
    {
      "cell_type": "markdown",
      "source": [
        "#### a에 할당된 값의 홀짝 여부 판별"
      ],
      "metadata": {
        "id": "GHjuGkQK5reL"
      }
    },
    {
      "cell_type": "code",
      "source": [
        "import random\n",
        "\n",
        "a = random.randrange(10)\n",
        "if a % 2 == 1:\n",
        "  print(a, \"is odd number.\")\n",
        "elif a % 2 == 0:\n",
        "  print(a, \"is even number.\")\n",
        "else:\n",
        "  print(a, \"is zero.\")"
      ],
      "metadata": {
        "colab": {
          "base_uri": "https://localhost:8080/"
        },
        "id": "I5JRoDdo5wxr",
        "outputId": "bfc31be8-0aa4-433a-e0b3-3e4219f4fbe1"
      },
      "execution_count": 51,
      "outputs": [
        {
          "output_type": "stream",
          "name": "stdout",
          "text": [
            "2 is even number.\n"
          ]
        }
      ]
    },
    {
      "cell_type": "markdown",
      "source": [
        "#### 학점 계산"
      ],
      "metadata": {
        "id": "zHN2RGXP-JDs"
      }
    },
    {
      "cell_type": "code",
      "source": [
        "score = int(input(\"your score: \"))\n",
        "\n",
        "if score >= 90:\n",
        "  print(\"A\")\n",
        "elif score >= 80:\n",
        "  print(\"B\")\n",
        "elif score >= 70:\n",
        "  print(\"C\")\n",
        "elif score >= 60:\n",
        "  print(\"D\")\n",
        "else:\n",
        "  print(\"F\")"
      ],
      "metadata": {
        "colab": {
          "base_uri": "https://localhost:8080/"
        },
        "id": "Ef8oNEQ1-Bck",
        "outputId": "0b47319e-ba44-4d62-f901-e10982447d62"
      },
      "execution_count": 70,
      "outputs": [
        {
          "output_type": "stream",
          "name": "stdout",
          "text": [
            "your score: 92\n",
            "A\n"
          ]
        }
      ]
    },
    {
      "cell_type": "markdown",
      "source": [
        "## 반복문\n",
        "### for 문"
      ],
      "metadata": {
        "id": "Y0W9yb216kgH"
      }
    },
    {
      "cell_type": "code",
      "source": [
        "a = [1, 2, 3, 4, 5]\n",
        "\n",
        "tot = 0\n",
        "for i in a:\n",
        "  tot += i\n",
        "\n",
        "print(tot)"
      ],
      "metadata": {
        "colab": {
          "base_uri": "https://localhost:8080/"
        },
        "id": "QrJ7NwS8F5uS",
        "outputId": "ac1a2326-8ecb-4366-fb5f-bd60ceb3629e"
      },
      "execution_count": 82,
      "outputs": [
        {
          "output_type": "stream",
          "name": "stdout",
          "text": [
            "15\n"
          ]
        }
      ]
    },
    {
      "cell_type": "markdown",
      "source": [
        "#### 홀수"
      ],
      "metadata": {
        "id": "VhzLWWYfGFZr"
      }
    },
    {
      "cell_type": "code",
      "source": [
        "for i in range(101):\n",
        "  if i % 2:\n",
        "    print(i)"
      ],
      "metadata": {
        "colab": {
          "base_uri": "https://localhost:8080/"
        },
        "id": "oO-LpAClITVc",
        "outputId": "b76856ae-c008-4df0-e33c-1442ef22e13b"
      },
      "execution_count": 96,
      "outputs": [
        {
          "output_type": "stream",
          "name": "stdout",
          "text": [
            "1\n",
            "3\n",
            "5\n",
            "7\n",
            "9\n",
            "11\n",
            "13\n",
            "15\n",
            "17\n",
            "19\n",
            "21\n",
            "23\n",
            "25\n",
            "27\n",
            "29\n",
            "31\n",
            "33\n",
            "35\n",
            "37\n",
            "39\n",
            "41\n",
            "43\n",
            "45\n",
            "47\n",
            "49\n",
            "51\n",
            "53\n",
            "55\n",
            "57\n",
            "59\n",
            "61\n",
            "63\n",
            "65\n",
            "67\n",
            "69\n",
            "71\n",
            "73\n",
            "75\n",
            "77\n",
            "79\n",
            "81\n",
            "83\n",
            "85\n",
            "87\n",
            "89\n",
            "91\n",
            "93\n",
            "95\n",
            "97\n",
            "99\n"
          ]
        }
      ]
    },
    {
      "cell_type": "code",
      "source": [
        "for i in range(21):\n",
        "  if i % 2 == 0:\n",
        "    continue\n",
        "  print(i)"
      ],
      "metadata": {
        "colab": {
          "base_uri": "https://localhost:8080/"
        },
        "id": "qjU0juGdJjyD",
        "outputId": "56148f8c-7481-4e97-ef14-19c42e546170"
      },
      "execution_count": 100,
      "outputs": [
        {
          "output_type": "stream",
          "name": "stdout",
          "text": [
            "1\n",
            "3\n",
            "5\n",
            "7\n",
            "9\n",
            "11\n",
            "13\n",
            "15\n",
            "17\n",
            "19\n"
          ]
        }
      ]
    },
    {
      "cell_type": "markdown",
      "source": [
        "#### 홀수 짝수 합 (1-10)"
      ],
      "metadata": {
        "id": "MW-Jx-5HLH5k"
      }
    },
    {
      "cell_type": "code",
      "source": [
        "oddsum = 0\n",
        "evensum = 0\n",
        "for i in range(11):\n",
        "  if i % 2:\n",
        "    oddsum += i\n",
        "  else:\n",
        "    evensum += i\n",
        "\n",
        "print(\"oddsum:\", oddsum)\n",
        "print(\"evensum:\", evensum)"
      ],
      "metadata": {
        "colab": {
          "base_uri": "https://localhost:8080/"
        },
        "id": "Rbigu-60LKhb",
        "outputId": "0245f7ab-4c82-441c-a92f-5b136edf0260"
      },
      "execution_count": 103,
      "outputs": [
        {
          "output_type": "stream",
          "name": "stdout",
          "text": [
            "oddsum: 25\n",
            "evensum: 30\n"
          ]
        }
      ]
    },
    {
      "cell_type": "markdown",
      "source": [
        "#### 안녕 123"
      ],
      "metadata": {
        "id": "DyJhniW2KEka"
      }
    },
    {
      "cell_type": "code",
      "source": [
        "a = 1\n",
        "while ( a <= 3 ):\n",
        "  print('안녕', a)\n",
        "  a += 1"
      ],
      "metadata": {
        "colab": {
          "base_uri": "https://localhost:8080/"
        },
        "id": "eYdPb-aiJ-7S",
        "outputId": "0b79fda6-34f5-4e84-88ce-2dc8e58f9379"
      },
      "execution_count": 101,
      "outputs": [
        {
          "output_type": "stream",
          "name": "stdout",
          "text": [
            "안녕 1\n",
            "안녕 2\n",
            "안녕 3\n"
          ]
        }
      ]
    },
    {
      "cell_type": "markdown",
      "source": [
        "### OJ"
      ],
      "metadata": {
        "id": "SyDymZiKKPlj"
      }
    },
    {
      "cell_type": "markdown",
      "source": [
        "#### 1부터 n까지 합"
      ],
      "metadata": {
        "id": "6wTfAmEJOFpk"
      }
    },
    {
      "cell_type": "code",
      "source": [
        "n = int(input())\n",
        "\n",
        "sum = 0\n",
        "for i in range(n+1):\n",
        "  sum += i\n",
        "\n",
        "print(sum)"
      ],
      "metadata": {
        "colab": {
          "base_uri": "https://localhost:8080/"
        },
        "id": "Q9jhT8raN1vb",
        "outputId": "6965dd55-a3e2-4f27-853e-c82f8d36cace"
      },
      "execution_count": 106,
      "outputs": [
        {
          "output_type": "stream",
          "name": "stdout",
          "text": [
            "10\n",
            "55\n"
          ]
        }
      ]
    },
    {
      "cell_type": "markdown",
      "source": [
        "#### 돈 세기"
      ],
      "metadata": {
        "id": "ZOc2aszt_jOr"
      }
    },
    {
      "cell_type": "code",
      "source": [
        "N = int(input())\n",
        "money = [100, 50, 20, 10, 5, 2, 1]\n",
        "\n",
        "print(N)\n",
        "for x in money:\n",
        "  count = N // x\n",
        "  print(count, \", $\", x, sep = \"\")\n",
        "  N -= (count * x)"
      ],
      "metadata": {
        "colab": {
          "base_uri": "https://localhost:8080/"
        },
        "id": "nVe0zoNV_mFj",
        "outputId": "5d9ebe79-8fdb-4091-d29d-8bd1f4f5c4f9"
      },
      "execution_count": 75,
      "outputs": [
        {
          "output_type": "stream",
          "name": "stdout",
          "text": [
            "576\n",
            "576\n",
            "5, $100\n",
            "1, $50\n",
            "1, $20\n",
            "0, $10\n",
            "1, $5\n",
            "0, $2\n",
            "1, $1\n"
          ]
        }
      ]
    },
    {
      "cell_type": "markdown",
      "source": [
        "#### 숫자의 합"
      ],
      "metadata": {
        "id": "PgO9Jxt79KBr"
      }
    },
    {
      "cell_type": "code",
      "source": [
        "int(input())\n",
        "numbers = input()\n",
        "tot = 0\n",
        "for x in numbers:\n",
        "  tot += int(x)\n",
        "print(tot)"
      ],
      "metadata": {
        "colab": {
          "base_uri": "https://localhost:8080/"
        },
        "id": "ayy_9sj66ijz",
        "outputId": "3810e817-a9ea-40ae-b1cf-9b8756867cfb"
      },
      "execution_count": 55,
      "outputs": [
        {
          "output_type": "stream",
          "name": "stdout",
          "text": [
            "222222\n",
            "12\n"
          ]
        }
      ]
    },
    {
      "cell_type": "markdown",
      "source": [
        "#### 숫자의 개수"
      ],
      "metadata": {
        "id": "WiVHHlFN9Mmj"
      }
    },
    {
      "cell_type": "code",
      "source": [
        "a = int(input())\n",
        "b = int(input())\n",
        "c = int(input())\n",
        "\n",
        "abc = str(a * b * c)\n",
        "\n",
        "for i in range(10):\n",
        "  count = 0\n",
        "  for x in abc:\n",
        "    if int(x) == i:\n",
        "      count += 1\n",
        "  print(count)"
      ],
      "metadata": {
        "colab": {
          "base_uri": "https://localhost:8080/"
        },
        "id": "mnlbdJgB9Pzb",
        "outputId": "59f30b87-77dc-4f8f-844d-150592de0b5a"
      },
      "execution_count": 67,
      "outputs": [
        {
          "output_type": "stream",
          "name": "stdout",
          "text": [
            "635\n",
            "243\n",
            "111\n",
            "0\n",
            "2\n",
            "1\n",
            "0\n",
            "0\n",
            "2\n",
            "0\n",
            "2\n",
            "1\n",
            "0\n"
          ]
        }
      ]
    },
    {
      "cell_type": "markdown",
      "source": [
        "#### 스택"
      ],
      "metadata": {
        "id": "y2tz73ZEC8Rz"
      }
    },
    {
      "cell_type": "code",
      "source": [
        "stack = []\n",
        "\n",
        "n = int(input())\n",
        "for i in range(n):\n",
        "  order = input().split()\n",
        "  if order[0] == \"push\":\n",
        "    stack.append(int(order[1]))\n",
        "  elif order[0] == \"pop\":\n",
        "    if len(stack):\n",
        "      print(stack.pop())\n",
        "    else:\n",
        "      print(-1)\n",
        "  elif order[0] == \"size\":\n",
        "    print(len(stack))\n",
        "  elif order[0] == \"empty\":\n",
        "    if len(stack):\n",
        "      print(0)\n",
        "    else:\n",
        "      print(1)\n",
        "  elif order[0] == \"top\":\n",
        "    if len(stack):\n",
        "      print(stack[-1])\n",
        "    else:\n",
        "      print(-1)"
      ],
      "metadata": {
        "colab": {
          "base_uri": "https://localhost:8080/"
        },
        "id": "cDOD3aGQC_AD",
        "outputId": "526a1777-5800-4357-f575-015a53b217df"
      },
      "execution_count": 81,
      "outputs": [
        {
          "output_type": "stream",
          "name": "stdout",
          "text": [
            "8\n",
            "push 3\n",
            "push 2\n",
            "top\n",
            "2\n",
            "pop\n",
            "2\n",
            "pop\n",
            "3\n",
            "push 3\n",
            "size\n",
            "1\n",
            "empty\n",
            "0\n"
          ]
        }
      ]
    },
    {
      "cell_type": "markdown",
      "source": [
        "#### 괄호"
      ],
      "metadata": {
        "id": "wcWbfl_7JIyl"
      }
    },
    {
      "cell_type": "code",
      "source": [
        "n = int(input())\n",
        "\n",
        "stack = []\n",
        "for i in range(n):\n",
        "  check = 1\n",
        "  brackets = input()\n",
        "  for x in brackets:\n",
        "    if check:\n",
        "      if x == \"(\":\n",
        "        stack.append(x)\n",
        "      else:\n",
        "        if len(stack):\n",
        "          stack.pop()\n",
        "        else:\n",
        "          check = 0\n",
        "  if check:\n",
        "    if len(stack):\n",
        "      print(\"NO\")\n",
        "    else:\n",
        "      print(\"YES\")\n",
        "  else:\n",
        "    print(\"NO\")\n",
        "  while len(stack):\n",
        "    stack.pop()"
      ],
      "metadata": {
        "colab": {
          "base_uri": "https://localhost:8080/"
        },
        "id": "rKhzXC7pFmpS",
        "outputId": "be273783-b532-4e6f-c12c-5d4a4a9b2031"
      },
      "execution_count": 108,
      "outputs": [
        {
          "output_type": "stream",
          "name": "stdout",
          "text": [
            "2\n",
            "((((())())\n",
            "NO\n",
            "()()()(())()\n",
            "YES\n"
          ]
        }
      ]
    },
    {
      "cell_type": "markdown",
      "source": [
        "#### OX퀴즈"
      ],
      "metadata": {
        "id": "XlatJbXcOhKT"
      }
    },
    {
      "cell_type": "code",
      "source": [
        "n = int(input())\n",
        "\n",
        "for i in range(n):\n",
        "  score = 0\n",
        "  count = 0\n",
        "  test = input()\n",
        "  for x in test:\n",
        "    if x == \"O\":\n",
        "      count += 1\n",
        "      score += count\n",
        "    else:\n",
        "      count = 0\n",
        "  print(score)"
      ],
      "metadata": {
        "colab": {
          "base_uri": "https://localhost:8080/"
        },
        "id": "LzazIlQJOXvb",
        "outputId": "c4c2cb8c-92c4-4b69-ecf3-a7a1bf723387"
      },
      "execution_count": 109,
      "outputs": [
        {
          "output_type": "stream",
          "name": "stdout",
          "text": [
            "3\n",
            "OXOOOXOOOX\n",
            "13\n",
            "OOOOXXX\n",
            "10\n",
            "OXOXOXOXOX\n",
            "5\n"
          ]
        }
      ]
    }
  ]
}